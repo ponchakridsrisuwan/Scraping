{
  "nbformat": 4,
  "nbformat_minor": 0,
  "metadata": {
    "colab": {
      "provenance": [],
      "authorship_tag": "ABX9TyPP0WIJ1aWltj2o2R/Wjisw",
      "include_colab_link": true
    },
    "kernelspec": {
      "name": "python3",
      "display_name": "Python 3"
    },
    "language_info": {
      "name": "python"
    }
  },
  "cells": [
    {
      "cell_type": "markdown",
      "metadata": {
        "id": "view-in-github",
        "colab_type": "text"
      },
      "source": [
        "<a href=\"https://colab.research.google.com/github/ponchakridsrisuwan/Scraping/blob/main/Scraping.ipynb\" target=\"_parent\"><img src=\"https://colab.research.google.com/assets/colab-badge.svg\" alt=\"Open In Colab\"/></a>"
      ]
    },
    {
      "cell_type": "code",
      "source": [
        "!pip install beautifulsoup4 requests"
      ],
      "metadata": {
        "colab": {
          "base_uri": "https://localhost:8080/"
        },
        "id": "uY4wVGnhXQP1",
        "outputId": "d3c7e9db-82d3-463a-aac1-072c73557d52"
      },
      "execution_count": null,
      "outputs": [
        {
          "output_type": "stream",
          "name": "stdout",
          "text": [
            "Requirement already satisfied: beautifulsoup4 in /usr/local/lib/python3.7/dist-packages (4.6.3)\n",
            "Requirement already satisfied: requests in /usr/local/lib/python3.7/dist-packages (2.23.0)\n",
            "Requirement already satisfied: idna<3,>=2.5 in /usr/local/lib/python3.7/dist-packages (from requests) (2.10)\n",
            "Requirement already satisfied: certifi>=2017.4.17 in /usr/local/lib/python3.7/dist-packages (from requests) (2021.10.8)\n",
            "Requirement already satisfied: chardet<4,>=3.0.2 in /usr/local/lib/python3.7/dist-packages (from requests) (3.0.4)\n",
            "Requirement already satisfied: urllib3!=1.25.0,!=1.25.1,<1.26,>=1.21.1 in /usr/local/lib/python3.7/dist-packages (from requests) (1.24.3)\n"
          ]
        }
      ]
    },
    {
      "cell_type": "code",
      "source": [
        "import numpy\n",
        "import requests\n",
        "import bs4\n",
        "from IPython.display import Image\n",
        "import re"
      ],
      "metadata": {
        "id": "adpSDLLuWSjY"
      },
      "execution_count": null,
      "outputs": []
    },
    {
      "cell_type": "code",
      "source": [
        "import requests\n",
        "from bs4 import BeautifulSoup\n",
        "\n",
        "url = \"https://www.set.or.th/set/historicaltrading.do?symbol=QLT&page=0&language=th&country=TH&type=trading&fbclid=IwAR0HaNX_TUospHapCEO_P_9COKT-vXd3Swkd-4WdtZOD9a9i_mdMZE7mI4w\"\n",
        "web_data = requests.get(url)\n",
        "\n",
        "soup = BeautifulSoup(web_data.text, 'html.parser')\n",
        "find_word = soup.find('table',{'class':'table table-hover table-info'}).text\n",
        "find_word = find_word.strip(\"/n\")\n"
      ],
      "metadata": {
        "id": "by720d0TPiQ9"
      },
      "execution_count": null,
      "outputs": []
    },
    {
      "cell_type": "code",
      "source": [
        "My_name = []"
      ],
      "metadata": {
        "id": "cwOySeNvx04t"
      },
      "execution_count": null,
      "outputs": []
    },
    {
      "cell_type": "code",
      "source": [
        "My_datas = []"
      ],
      "metadata": {
        "id": "4qEE07Rt0RxC"
      },
      "execution_count": null,
      "outputs": []
    },
    {
      "cell_type": "code",
      "source": [
        "My_name"
      ],
      "metadata": {
        "colab": {
          "base_uri": "https://localhost:8080/"
        },
        "id": "TigjXHmozTqJ",
        "outputId": "72f56ee8-9d84-4ac3-adf4-d1ebbb9a1264"
      },
      "execution_count": null,
      "outputs": [
        {
          "output_type": "execute_result",
          "data": {
            "text/plain": [
              "[['',\n",
              "  '18/02/2565',\n",
              "  '7.25',\n",
              "  '8.00',\n",
              "  '6.20',\n",
              "  '6.20',\n",
              "  ' 0.00',\n",
              "  ' 0.00',\n",
              "  '17,960,861',\n",
              "  '132,874.60',\n",
              "  ''],\n",
              " '18/02/2565']"
            ]
          },
          "metadata": {},
          "execution_count": 21
        }
      ]
    },
    {
      "cell_type": "code",
      "source": [
        "\n",
        "x = re.split(\"\\n\", name12[0])\n",
        "print(x)"
      ],
      "metadata": {
        "colab": {
          "base_uri": "https://localhost:8080/"
        },
        "id": "dnv5T-DFx_rI",
        "outputId": "7271575e-c3fd-44ea-a771-831e5673ce27"
      },
      "execution_count": null,
      "outputs": [
        {
          "output_type": "stream",
          "name": "stdout",
          "text": [
            "['', '18/02/2565', '7.25', '8.00', '6.20', '6.20', ' 0.00', ' 0.00', '17,960,861', '132,874.60', '']\n"
          ]
        }
      ]
    },
    {
      "cell_type": "code",
      "source": [
        "movie.find('div',{'class':'mlb-date'}).text"
      ],
      "metadata": {
        "colab": {
          "base_uri": "https://localhost:8080/",
          "height": 35
        },
        "id": "eZ5_0akpmxyu",
        "outputId": "87d998c3-3f28-4493-ee30-447ce6b42114"
      },
      "execution_count": null,
      "outputs": [
        {
          "output_type": "execute_result",
          "data": {
            "application/vnd.google.colaboratory.intrinsic+json": {
              "type": "string"
            },
            "text/plain": [
              "'13 Jan 2022'"
            ]
          },
          "metadata": {},
          "execution_count": 91
        }
      ]
    },
    {
      "cell_type": "code",
      "source": [
        "data = requests.get(\"https://chobrod.com/car-sale\")\n",
        "soup = bs4.BeautifulSoup(data.text)\n",
        "\n",
        "for m in soup.find_all('div',{'class':'itemlist '})[0:]:\n",
        "  print(m.find('h2',{'class':'title'}).text)\n",
        "  print(m.find('p',{'class':'price'}).text)\n",
        "  print(m.find('div',{'class':'txt'}).text)\n",
        "  print(m.find('a')['href'])\n"
      ],
      "metadata": {
        "colab": {
          "base_uri": "https://localhost:8080/"
        },
        "id": "ocN05XOr0jbE",
        "outputId": "688f62c0-0845-4535-e54f-cabdb36122ec"
      },
      "execution_count": null,
      "outputs": [
        {
          "output_type": "stream",
          "name": "stdout",
          "text": [
            "ขายรถมือสอง TOYOTA COROLLA ALTIS 1.8 E | ปี : 2014\n",
            "฿429,000 \n",
            "กรุงเทพมหานคร\n",
            "/car-toyota-corolla-altis-1-8-e-bangkok/ขายรถมือสอง-ปี-2014-aid22668812\n",
            "ขายรถมือสอง TOYOTA MAJESTY 2.8 Premium | ปี : 2021\n",
            "฿2,099,000 \n",
            "กรุงเทพมหานคร\n",
            "/car-toyota-majesty-premium-bangkok/ขายรถมือสอง-2-8-ปี-2021-aid22668822\n",
            "ขายรถมือสอง TOYOTA CAMRY 2.0 G | ปี : 2008\n",
            "฿299,000 \n",
            "กรุงเทพมหานคร\n",
            "/car-toyota-camry-2-0-g-bangkok/ขายรถมือสอง-ปี-2008-aid22668832\n",
            "ขายรถ TOYOTA VIOS 1.5 ES ปี 2012\n",
            "฿269,000 \n",
            "กรุงเทพมหานคร\n",
            "/car-toyota-vios-1-5-es-bangkok/ขายรถ-ปี-2012-aid22668732\n",
            "ขายรถ Mercedes-Benz GLA 250 2.0 AMG DYNAMIC FACELIFT  ปี 2019\n",
            "฿1,699,000 \n",
            "กรุงเทพมหานคร\n",
            "/car-mercedes-benz-gla250-2-0-amg-dynamic-bangkok/ขายรถ-gla-250-facelift-ปี-2019-aid22668742\n",
            "ขายรถ MINI COOPER S 2.0 COUNTRYMAN RHD (F60) ปี 2020\n",
            "฿1,599,000 \n",
            "กรุงเทพมหานคร\n",
            "/car-mini-cooper-2-0-s-countryman-bangkok/ขายรถ-s-2-0-countryman-rhd-f60-ปี-2020-aid22668772\n",
            "ขายรถ HONDA MOBILIO 1.5 RS TOP  ปี 2016\n",
            "฿449,000 \n",
            "กรุงเทพมหานคร\n",
            "/car-honda-mobilio-1-5-rs-bangkok/ขายรถ-top-ปี-2016-aid22668782\n",
            "ขายรถ MERCEDES BENZ C350e Exclusive Plug-in Hybrid (โฉม W205 ) ปี 2016\n",
            "฿1,190,000 \n",
            "กรุงเทพมหานคร\n",
            "/car-mercedes-benz-c350-2-0-e-exclusive-bangkok/ขายรถ-e-exclusive-plug-in-hybrid-โฉม-w205-ปี-2016-aid22668762\n",
            "2011 Nissan TEANA 2.5 XV รถเก๋ง 4 ประตู \n",
            "฿299,000 \n",
            "กรุงเทพมหานคร\n",
            "/car-nissan-teana-2-5-xv-bangkok/2011-รถเก๋ง-4-ประตู-aid22498052\n",
            "2013 Chevrolet Trailblazer 2.8 LT SUV \n",
            "฿449,000 \n",
            "กรุงเทพมหานคร\n",
            "/car-chevrolet-trailblazer-2-8-lt-bangkok/2013-suv-aid22533052\n",
            "2020 Honda ACCORD 1.5 TURBO EL สภาพป้ายแดง ไมล์น้อย 30,000 Km.เท่านั้น\n",
            "฿1,099,000 \n",
            "กรุงเทพมหานคร\n",
            "/car-honda-accord-1-5-turbo-el-bangkok/2020-สภาพป้ายแดง-ไมล์น้อย-30-000-km-เท่านั้น-aid22535952\n",
            "2018 Isuzu MU-X 1.9 CD SUV 🚙รถไมล์น้อย​ 3x,xxx Km. 🚙 เรามีรถรุ่นนี้ให้เลือก​ 3 คัน​ 🚙\n",
            "฿729,000 \n",
            "กรุงเทพมหานคร\n",
            "/car-isuzu-mu-x-1-9-cd-bangkok/2018-suv-รถไมล์น้อย-3x-xxx-km-เรามีรถรุ่นนี้ให้เลือก-3-คัน-aid22565592\n",
            "2014 Isuzu MU-X 3.0 The ICONIC SUV 🚘เรามีรุ่นนี้ให้เลือก​3 คัน🚘\n",
            "฿669,000 \n",
            "กรุงเทพมหานคร\n",
            "/car-isuzu-mu-x-3-0-the-iconic-bangkok/2014-suv-เรามีรุ่นนี้ให้เลือก-3-คัน-aid22585192\n",
            "🔥ไมล์น้อย 33,xxx 2018 Honda CR-V 2.4 EL 4WD SUV \n",
            "฿1,039,000 \n",
            "กรุงเทพมหานคร\n",
            "/car-honda-cr-v-2-4-el-4wd-bangkok/ไมล์น้อย-33-xxx-2018-suv-aid22597632\n",
            "ขายรถ Toyota Sport Rider 3.0 G LIMITED SUV ปี 2002\n",
            "฿199,000 \n",
            "กรุงเทพมหานคร\n",
            "/car-toyota-sport-rider-bangkok/ขายรถ-3-0-g-limited-suv-ปี-2002-aid22598732\n",
            "ขายรถ Honda CR-V 2.0 E 4WD SUV ปี2004\n",
            "฿219,000 \n",
            "กรุงเทพมหานคร\n",
            "/car-honda-cr-v-2-0-e-4wd-bangkok/ขายรถ-suv-ปี-2004-aid22598752\n"
          ]
        }
      ]
    },
    {
      "cell_type": "code",
      "source": [
        "for m in soup.find('div',{'class':'list-product'}):\n",
        "  # print(m)\n",
        "  print(m.find('h2',{'class':'title'}).text)\n",
        "  # print(m.find('p',{'class':'price'}).text)\n",
        "  # print(m.find('div',{'class':'txt'})['href'])"
      ],
      "metadata": {
        "colab": {
          "base_uri": "https://localhost:8080/",
          "height": 236
        },
        "id": "wHFDUSt7p6Z7",
        "outputId": "aa1d518f-71bb-4460-cdbf-93e5601f332d"
      },
      "execution_count": null,
      "outputs": [
        {
          "output_type": "error",
          "ename": "TypeError",
          "evalue": "ignored",
          "traceback": [
            "\u001b[0;31m---------------------------------------------------------------------------\u001b[0m",
            "\u001b[0;31mTypeError\u001b[0m                                 Traceback (most recent call last)",
            "\u001b[0;32m<ipython-input-61-4ce4ca84983d>\u001b[0m in \u001b[0;36m<module>\u001b[0;34m()\u001b[0m\n\u001b[1;32m      1\u001b[0m \u001b[0;32mfor\u001b[0m \u001b[0mm\u001b[0m \u001b[0;32min\u001b[0m \u001b[0msoup\u001b[0m\u001b[0;34m.\u001b[0m\u001b[0mfind\u001b[0m\u001b[0;34m(\u001b[0m\u001b[0;34m'div'\u001b[0m\u001b[0;34m,\u001b[0m\u001b[0;34m{\u001b[0m\u001b[0;34m'class'\u001b[0m\u001b[0;34m:\u001b[0m\u001b[0;34m'list-product'\u001b[0m\u001b[0;34m}\u001b[0m\u001b[0;34m)\u001b[0m\u001b[0;34m:\u001b[0m\u001b[0;34m\u001b[0m\u001b[0;34m\u001b[0m\u001b[0m\n\u001b[1;32m      2\u001b[0m   \u001b[0;31m# print(m)\u001b[0m\u001b[0;34m\u001b[0m\u001b[0;34m\u001b[0m\u001b[0;34m\u001b[0m\u001b[0m\n\u001b[0;32m----> 3\u001b[0;31m   \u001b[0mprint\u001b[0m\u001b[0;34m(\u001b[0m\u001b[0mm\u001b[0m\u001b[0;34m.\u001b[0m\u001b[0mfind\u001b[0m\u001b[0;34m(\u001b[0m\u001b[0;34m'h2'\u001b[0m\u001b[0;34m,\u001b[0m\u001b[0;34m{\u001b[0m\u001b[0;34m'class'\u001b[0m\u001b[0;34m:\u001b[0m\u001b[0;34m'title'\u001b[0m\u001b[0;34m}\u001b[0m\u001b[0;34m)\u001b[0m\u001b[0;34m.\u001b[0m\u001b[0mtext\u001b[0m\u001b[0;34m)\u001b[0m\u001b[0;34m\u001b[0m\u001b[0;34m\u001b[0m\u001b[0m\n\u001b[0m\u001b[1;32m      4\u001b[0m   \u001b[0;31m# print(m.find('p',{'class':'price'}).text)\u001b[0m\u001b[0;34m\u001b[0m\u001b[0;34m\u001b[0m\u001b[0;34m\u001b[0m\u001b[0m\n\u001b[1;32m      5\u001b[0m   \u001b[0;31m# print(m.find('div',{'class':'txt'})['href'])\u001b[0m\u001b[0;34m\u001b[0m\u001b[0;34m\u001b[0m\u001b[0;34m\u001b[0m\u001b[0m\n",
            "\u001b[0;31mTypeError\u001b[0m: slice indices must be integers or None or have an __index__ method"
          ]
        }
      ]
    },
    {
      "cell_type": "code",
      "source": [
        "!pip install xlsxwriter"
      ],
      "metadata": {
        "colab": {
          "base_uri": "https://localhost:8080/"
        },
        "id": "bP5r6FmPui_4",
        "outputId": "3f8582d9-3ee9-4174-c553-d328b6e40d86"
      },
      "execution_count": null,
      "outputs": [
        {
          "output_type": "stream",
          "name": "stdout",
          "text": [
            "Collecting xlsxwriter\n",
            "  Downloading XlsxWriter-3.0.2-py3-none-any.whl (149 kB)\n",
            "\u001b[?25l\r\u001b[K     |██▏                             | 10 kB 23.2 MB/s eta 0:00:01\r\u001b[K     |████▍                           | 20 kB 12.1 MB/s eta 0:00:01\r\u001b[K     |██████▋                         | 30 kB 8.7 MB/s eta 0:00:01\r\u001b[K     |████████▊                       | 40 kB 8.0 MB/s eta 0:00:01\r\u001b[K     |███████████                     | 51 kB 4.4 MB/s eta 0:00:01\r\u001b[K     |█████████████▏                  | 61 kB 5.2 MB/s eta 0:00:01\r\u001b[K     |███████████████▎                | 71 kB 5.4 MB/s eta 0:00:01\r\u001b[K     |█████████████████▌              | 81 kB 5.6 MB/s eta 0:00:01\r\u001b[K     |███████████████████▊            | 92 kB 6.2 MB/s eta 0:00:01\r\u001b[K     |█████████████████████▉          | 102 kB 5.1 MB/s eta 0:00:01\r\u001b[K     |████████████████████████        | 112 kB 5.1 MB/s eta 0:00:01\r\u001b[K     |██████████████████████████▎     | 122 kB 5.1 MB/s eta 0:00:01\r\u001b[K     |████████████████████████████▍   | 133 kB 5.1 MB/s eta 0:00:01\r\u001b[K     |██████████████████████████████▋ | 143 kB 5.1 MB/s eta 0:00:01\r\u001b[K     |████████████████████████████████| 149 kB 5.1 MB/s \n",
            "\u001b[?25hInstalling collected packages: xlsxwriter\n",
            "Successfully installed xlsxwriter-3.0.2\n"
          ]
        }
      ]
    },
    {
      "cell_type": "code",
      "source": [],
      "metadata": {
        "id": "HLl4dMhF2yrm"
      },
      "execution_count": null,
      "outputs": []
    },
    {
      "cell_type": "code",
      "source": [
        "date = []\n",
        "gold = []\n",
        "kitco = []\n",
        "currency = []\n",
        "spot_gold = []"
      ],
      "metadata": {
        "id": "X6x-d_jf_azQ"
      },
      "execution_count": null,
      "outputs": []
    },
    {
      "cell_type": "code",
      "source": [
        "mx = []\n",
        "vb = []\n",
        "reg = []"
      ],
      "metadata": {
        "id": "ICKEU7RNSQTY"
      },
      "execution_count": null,
      "outputs": []
    },
    {
      "cell_type": "code",
      "source": [
        "data = requests.get(\"https://www.set.or.th/set/historicaltrading.do?symbol=QLT&page=0&language=th&country=TH&type=trading&fbclid=IwAR0HaNX_TUospHapCEO_P_9COKT-vXd3Swkd-4WdtZOD9a9i_mdMZE7mI4w\")\n",
        "soup = bs4.BeautifulSoup(data.text)\n",
        "for z = soup.find_all('table',{'class':'table table-hover table-info'}):\n",
        "  name = z.find('tr',{'align':'right'}).text\n",
        "  x = re.split(\"\\n\", name)\n",
        "  reg.append(x)\n",
        "\n",
        "print(reg)\n"
      ],
      "metadata": {
        "id": "nQbLNOT_g553",
        "colab": {
          "base_uri": "https://localhost:8080/"
        },
        "outputId": "9e998b1e-281a-4253-ff45-f41ef11b99ae"
      },
      "execution_count": null,
      "outputs": [
        {
          "output_type": "stream",
          "name": "stdout",
          "text": [
            "[['', '18/02/2565', '7.25', '8.00', '6.20', '6.20', ' 0.00', ' 0.00', '17,960,861', '132,874.60', '']]\n"
          ]
        }
      ]
    },
    {
      "cell_type": "code",
      "source": [],
      "metadata": {
        "id": "_Fm_5WzCQqhU"
      },
      "execution_count": null,
      "outputs": []
    },
    {
      "cell_type": "code",
      "source": [
        "data = requests.get(\"http://www.taradthong.com/content/%E0%B8%A3%E0%B8%B2%E0%B8%84%E0%B8%B2%E0%B8%97%E0%B8%AD%E0%B8%87%E0%B8%84%E0%B8%B3%E0%B8%A2%E0%B9%89%E0%B8%AD%E0%B8%99%E0%B8%AB%E0%B8%A5%E0%B8%B1%E0%B8%87\")\n",
        "soup = bs4.BeautifulSoup(data.text)\n",
        "\n",
        "for q in soup.find('table'):\n",
        "  datas = q.find('tr').text\n",
        "  x = re.split(\"\\n\", datas)\n",
        "  date.append(x[1])\n",
        "  gold.append(x[2])\n",
        "  kitco.append(x[3])\n",
        "  currency.append(x[4])\n",
        "  spot_gold.append(x[5])\n"
      ],
      "metadata": {
        "id": "jJNsRIlE1bX9",
        "colab": {
          "base_uri": "https://localhost:8080/",
          "height": 235
        },
        "outputId": "62a913be-3b18-48cd-80d2-db3e7f3ee6ba"
      },
      "execution_count": null,
      "outputs": [
        {
          "output_type": "error",
          "ename": "TypeError",
          "evalue": "ignored",
          "traceback": [
            "\u001b[0;31m---------------------------------------------------------------------------\u001b[0m",
            "\u001b[0;31mTypeError\u001b[0m                                 Traceback (most recent call last)",
            "\u001b[0;32m<ipython-input-8-af143c59897c>\u001b[0m in \u001b[0;36m<module>\u001b[0;34m()\u001b[0m\n\u001b[1;32m      2\u001b[0m \u001b[0msoup\u001b[0m \u001b[0;34m=\u001b[0m \u001b[0mbs4\u001b[0m\u001b[0;34m.\u001b[0m\u001b[0mBeautifulSoup\u001b[0m\u001b[0;34m(\u001b[0m\u001b[0mdata\u001b[0m\u001b[0;34m.\u001b[0m\u001b[0mtext\u001b[0m\u001b[0;34m)\u001b[0m\u001b[0;34m\u001b[0m\u001b[0;34m\u001b[0m\u001b[0m\n\u001b[1;32m      3\u001b[0m \u001b[0;34m\u001b[0m\u001b[0m\n\u001b[0;32m----> 4\u001b[0;31m \u001b[0;32mfor\u001b[0m \u001b[0mq\u001b[0m \u001b[0;32min\u001b[0m \u001b[0msoup\u001b[0m\u001b[0;34m.\u001b[0m\u001b[0mfind\u001b[0m\u001b[0;34m(\u001b[0m\u001b[0;34m'table'\u001b[0m\u001b[0;34m)\u001b[0m\u001b[0;34m:\u001b[0m\u001b[0;34m\u001b[0m\u001b[0;34m\u001b[0m\u001b[0m\n\u001b[0m\u001b[1;32m      5\u001b[0m   \u001b[0mdatas\u001b[0m \u001b[0;34m=\u001b[0m \u001b[0mq\u001b[0m\u001b[0;34m.\u001b[0m\u001b[0mfind\u001b[0m\u001b[0;34m(\u001b[0m\u001b[0;34m'tr'\u001b[0m\u001b[0;34m)\u001b[0m\u001b[0;34m.\u001b[0m\u001b[0mtext\u001b[0m\u001b[0;34m\u001b[0m\u001b[0;34m\u001b[0m\u001b[0m\n\u001b[1;32m      6\u001b[0m   \u001b[0mx\u001b[0m \u001b[0;34m=\u001b[0m \u001b[0mre\u001b[0m\u001b[0;34m.\u001b[0m\u001b[0msplit\u001b[0m\u001b[0;34m(\u001b[0m\u001b[0;34m\"\\n\"\u001b[0m\u001b[0;34m,\u001b[0m \u001b[0mdatas\u001b[0m\u001b[0;34m)\u001b[0m\u001b[0;34m\u001b[0m\u001b[0;34m\u001b[0m\u001b[0m\n",
            "\u001b[0;31mTypeError\u001b[0m: 'NoneType' object is not iterable"
          ]
        }
      ]
    },
    {
      "cell_type": "code",
      "source": [
        "data = requests.get(\"http://www.taradthong.com/content/%E0%B8%A3%E0%B8%B2%E0%B8%84%E0%B8%B2%E0%B8%97%E0%B8%AD%E0%B8%87%E0%B8%84%E0%B8%B3%E0%B8%A2%E0%B9%89%E0%B8%AD%E0%B8%99%E0%B8%AB%E0%B8%A5%E0%B8%B1%E0%B8%87\")\n",
        "soup = bs4.BeautifulSoup(data.text)\n",
        "\n",
        "for q in soup.find('table',{'class':'table table-hover table-info'}):\n",
        "  datas = q.find('tr',{'align':'right'}).text\n",
        "  x = re.split(\"\\n\", datas)\n",
        "  date.append(x[1])\n",
        "  gold.append(x[2])\n",
        "  kitco.append(x[3])\n",
        "  currency.append(x[4])\n",
        "  spot_gold.append(x[5])\n"
      ],
      "metadata": {
        "colab": {
          "base_uri": "https://localhost:8080/",
          "height": 235
        },
        "id": "xeI4XoU4BPjg",
        "outputId": "f5e18913-33c2-4d9f-d695-46478bf88d63"
      },
      "execution_count": null,
      "outputs": [
        {
          "output_type": "error",
          "ename": "TypeError",
          "evalue": "ignored",
          "traceback": [
            "\u001b[0;31m---------------------------------------------------------------------------\u001b[0m",
            "\u001b[0;31mTypeError\u001b[0m                                 Traceback (most recent call last)",
            "\u001b[0;32m<ipython-input-5-043cda2910a7>\u001b[0m in \u001b[0;36m<module>\u001b[0;34m()\u001b[0m\n\u001b[1;32m      2\u001b[0m \u001b[0msoup\u001b[0m \u001b[0;34m=\u001b[0m \u001b[0mbs4\u001b[0m\u001b[0;34m.\u001b[0m\u001b[0mBeautifulSoup\u001b[0m\u001b[0;34m(\u001b[0m\u001b[0mdata\u001b[0m\u001b[0;34m.\u001b[0m\u001b[0mtext\u001b[0m\u001b[0;34m)\u001b[0m\u001b[0;34m\u001b[0m\u001b[0;34m\u001b[0m\u001b[0m\n\u001b[1;32m      3\u001b[0m \u001b[0;34m\u001b[0m\u001b[0m\n\u001b[0;32m----> 4\u001b[0;31m \u001b[0;32mfor\u001b[0m \u001b[0mq\u001b[0m \u001b[0;32min\u001b[0m \u001b[0msoup\u001b[0m\u001b[0;34m.\u001b[0m\u001b[0mfind\u001b[0m\u001b[0;34m(\u001b[0m\u001b[0;34m'table'\u001b[0m\u001b[0;34m,\u001b[0m\u001b[0;34m{\u001b[0m\u001b[0;34m'class'\u001b[0m\u001b[0;34m:\u001b[0m\u001b[0;34m'table table-hover table-info'\u001b[0m\u001b[0;34m}\u001b[0m\u001b[0;34m)\u001b[0m\u001b[0;34m:\u001b[0m\u001b[0;34m\u001b[0m\u001b[0;34m\u001b[0m\u001b[0m\n\u001b[0m\u001b[1;32m      5\u001b[0m   \u001b[0mdatas\u001b[0m \u001b[0;34m=\u001b[0m \u001b[0mq\u001b[0m\u001b[0;34m.\u001b[0m\u001b[0mfind\u001b[0m\u001b[0;34m(\u001b[0m\u001b[0;34m'tr'\u001b[0m\u001b[0;34m,\u001b[0m\u001b[0;34m{\u001b[0m\u001b[0;34m'align'\u001b[0m\u001b[0;34m:\u001b[0m\u001b[0;34m'right'\u001b[0m\u001b[0;34m}\u001b[0m\u001b[0;34m)\u001b[0m\u001b[0;34m.\u001b[0m\u001b[0mtext\u001b[0m\u001b[0;34m\u001b[0m\u001b[0;34m\u001b[0m\u001b[0m\n\u001b[1;32m      6\u001b[0m   \u001b[0mx\u001b[0m \u001b[0;34m=\u001b[0m \u001b[0mre\u001b[0m\u001b[0;34m.\u001b[0m\u001b[0msplit\u001b[0m\u001b[0;34m(\u001b[0m\u001b[0;34m\"\\n\"\u001b[0m\u001b[0;34m,\u001b[0m \u001b[0mdatas\u001b[0m\u001b[0;34m)\u001b[0m\u001b[0;34m\u001b[0m\u001b[0;34m\u001b[0m\u001b[0m\n",
            "\u001b[0;31mTypeError\u001b[0m: 'NoneType' object is not iterable"
          ]
        }
      ]
    },
    {
      "cell_type": "code",
      "source": [
        "import xlsxwriter\n",
        "import pandas as pd\n",
        "\n",
        "name = []\n",
        "price = []\n",
        "address = []\n",
        "mylink = []\n",
        "\n",
        "\n",
        "for m in soup.find_all('div',{'class':'itemlist '})[0:]:\n",
        "  name.append(m.find('h2',{'class':'title'}).text)\n",
        "  price.append(m.find('p',{'class':'price'}).text)\n",
        "  address.append(m.find('div',{'class':'txt'}).text)\n",
        "  mylink.append(m.find('a')['href'])\n",
        "\n",
        "print(name)\n",
        "\n",
        "# dataframe = pd.DataFrame({'ชื่อ' : name ,'ราคา' : price , 'ที่อยู่' : address, 'ลิงค์' : mylink})\n",
        "# writer = pd.ExcelWriter('worapon.xlsx', engine='xlsxwriter')\n",
        "# dataframe.to_excel(writer, sheet_name='หน้าที่1')\n",
        "# writer.save()"
      ],
      "metadata": {
        "id": "f3mLqvkCnNhM",
        "colab": {
          "base_uri": "https://localhost:8080/"
        },
        "outputId": "5d0aab8a-adcc-4221-bb69-a0161146fd56"
      },
      "execution_count": null,
      "outputs": [
        {
          "output_type": "stream",
          "name": "stdout",
          "text": [
            "[]\n"
          ]
        }
      ]
    },
    {
      "cell_type": "code",
      "source": [
        "import re"
      ],
      "metadata": {
        "id": "Ps4GR5FYCH1j"
      },
      "execution_count": null,
      "outputs": []
    },
    {
      "cell_type": "code",
      "source": [
        "s=\"   Hello   Python  \"\n",
        "print(s.strip())"
      ],
      "metadata": {
        "id": "g4U-uq3ICUw0",
        "outputId": "dd613902-02e3-4c0d-8a01-61751871e505",
        "colab": {
          "base_uri": "https://localhost:8080/"
        }
      },
      "execution_count": null,
      "outputs": [
        {
          "output_type": "stream",
          "name": "stdout",
          "text": [
            "Hello   Python\n"
          ]
        }
      ]
    },
    {
      "cell_type": "code",
      "source": [
        "Country = []\n",
        "Cases in the last 7 days = []\n",
        "Cases in the preceding 7 days = []\n",
        "Weekly Case = []\n",
        "Cases in the last  = []\n",
        "Deaths in the last  = []\n",
        "Deaths in the preceding  = []\n",
        "Weekly Death = []\n",
        "Population = []\n"
      ],
      "metadata": {
        "id": "2_YYZal3Rm-h"
      },
      "execution_count": null,
      "outputs": []
    },
    {
      "cell_type": "code",
      "source": [
        "covid1 = []\n",
        "covid2 = []\n",
        "covid3 = []\n",
        "covid4 = []\n",
        "covid5 = []\n",
        "covid6 = []\n",
        "covid7 = []\n",
        "covid8 = []\n",
        "covid9 = []\n",
        "covid10 = []\n",
        "covid11 = []\n"
      ],
      "metadata": {
        "id": "A5sPYbY5lqeS"
      },
      "execution_count": null,
      "outputs": []
    },
    {
      "cell_type": "code",
      "source": [
        "My_url = (\"https://www.worldometers.info/coronavirus/weekly-trends/#weekly_table\")"
      ],
      "metadata": {
        "id": "SHlAzf5ZRsSO"
      },
      "execution_count": null,
      "outputs": []
    },
    {
      "cell_type": "code",
      "source": [
        "\n",
        "data = requests.get(\"https://www.worldometers.info/coronavirus/weekly-trends/#weekly_table\")\n",
        "soup = bs4.BeautifulSoup(data.text)\n",
        "for q in soup.find_all('table',{'class':'table table-bordered table-hover main_table_countries dataTable no-footer'}):\n",
        "    datas = q.find('tr',{'class':'odd'}).text\n",
        "    print(datas)\n",
        "    # x = re.split(\"\\n\", datas)\n",
        "    # covid1.append(x[1])\n",
        "    # covid2.append(x[2])\n",
        "    # covid3.append(x[3])\n",
        "    # covid4.append(x[4])\n",
        "    # covid5.append(x[5])\n",
        "    # covid6.append(x[6])\n",
        "    # covid7.append(x[7])\n",
        "    # covid8.append(x[8])\n",
        "    # covid9.append(x[9])\n",
        "    # covid10.append(x[10])\n",
        "    # covid11.append(x[11])\n",
        "    print(datas)\n",
        "\n",
        "# print(date)"
      ],
      "metadata": {
        "id": "MoFtTnmLRq0E"
      },
      "execution_count": null,
      "outputs": []
    },
    {
      "cell_type": "code",
      "source": [
        "luea = []\n",
        "dds = []\n",
        "gn=[]\n",
        "ff =[]\n",
        "gfgf = []"
      ],
      "metadata": {
        "id": "rGPU5mdfsgGP"
      },
      "execution_count": null,
      "outputs": []
    },
    {
      "cell_type": "code",
      "source": [
        "data = requests.get(\"https://www.worldometers.info/coronavirus/weekly-trends/#weekly_table\")\n",
        "soup = bs4.BeautifulSoup(data.text)\n",
        "z = soup.find('table',{'id':'main_table_countries_today'})\n",
        "name = z.find('tbody').text\n",
        "x = re.split(\"\\n\", name)\n",
        "\n",
        "gfgf.append(x[147::18])\n",
        "\n",
        "print(gfgf)"
      ],
      "metadata": {
        "colab": {
          "base_uri": "https://localhost:8080/"
        },
        "id": "i_x1kN9njOQ6",
        "outputId": "1b05889a-ccd6-4806-9c48-8107ed198ba1"
      },
      "execution_count": null,
      "outputs": [
        {
          "output_type": "stream",
          "name": "stdout",
          "text": [
            "[['China', '777', '590', '+32%', '0.5', '0', '0', '0%', '0', '+187', '+0.1', '0', '0', '1,448,417,774', 'Asia', '', '', '2', 'Thailand'], ['China', 'Thailand', 'Japan', 'Singapore', 'Hong Kong', 'S. Korea', 'Taiwan', 'Australia', 'Malaysia', 'USA', 'Germany', 'France', 'Vietnam', 'UAE', 'Canada', 'Italy', 'UK', 'Russia', 'Cambodia', 'Finland', 'India', 'Nepal', 'Philippines', 'Sri Lanka', 'Sweden', 'Spain', 'Afghanistan', 'Albania', 'Algeria', 'Andorra', 'Angola', 'Anguilla', 'Antigua and Barbuda', 'Argentina', 'Armenia', 'Aruba', 'Austria', 'Azerbaijan', 'Bahamas', 'Bahrain', 'Bangladesh', 'Barbados', 'Belarus', 'Belgium', 'Belize', 'Benin', 'Bermuda', 'Bhutan', 'Bolivia', 'Bosnia and Herzegovina', 'Botswana', 'Brazil', 'British Virgin Islands', 'Brunei ', 'Bulgaria', 'Burkina Faso', 'Burundi', 'Cabo Verde', 'Cameroon', 'Caribbean Netherlands', 'Cayman Islands', 'CAR', 'Chad', 'Channel Islands', 'Chile', 'Colombia', 'Comoros', 'Congo', 'Cook Islands', 'Costa Rica', 'Ivory Coast', 'Croatia', 'Cuba', 'Curaçao', 'Cyprus', 'Czechia', 'DRC', 'Denmark', 'Djibouti', 'Dominica', 'Dominican Republic', 'Ecuador', 'Egypt', 'El Salvador', 'Equatorial Guinea', 'Eritrea', 'Estonia', 'Ethiopia', 'Faeroe Islands', 'Fiji', 'French Guiana', 'French Polynesia', 'Gabon', 'Gambia', 'Georgia', 'Ghana', 'Gibraltar', 'Greece', 'Greenland', 'Grenada', 'Guadeloupe', 'Guatemala', 'Guinea', 'Guinea-Bissau', 'Guyana', 'Haiti', 'Honduras', 'Hungary', 'Iceland', 'Indonesia', 'Iran', 'Iraq', 'Ireland', 'Isle of Man', 'Israel', 'Jamaica', 'Jordan', 'Kazakhstan', 'Kenya', 'Kiribati', 'Kuwait', 'Kyrgyzstan', 'Laos', 'Latvia', 'Lebanon', 'Lesotho', 'Liberia', 'Libya', 'Liechtenstein', 'Lithuania', 'Luxembourg', 'North Macedonia', 'Madagascar', 'Malawi', 'Maldives', 'Mali', 'Malta', 'Martinique', 'Mauritania', 'Mauritius', 'Mayotte', 'Mexico', 'Moldova', 'Monaco', 'Mongolia', 'Montenegro', 'Montserrat', 'Morocco', 'Mozambique', 'Myanmar', 'Namibia', 'Netherlands', 'New Caledonia', 'New Zealand', 'Nicaragua', 'Niger', 'Nigeria', 'Norway', 'Oman', 'Pakistan', 'Panama', 'Papua New Guinea', 'Paraguay', 'Peru', 'Poland', 'Portugal', 'Qatar', 'Réunion', 'Romania', 'Rwanda', 'St. Barth', 'Saint Kitts and Nevis', 'Saint Lucia', 'Saint Martin', 'Saint Pierre Miquelon', 'St. Vincent Grenadines', 'San Marino', 'Sao Tome and Principe', 'Saudi Arabia', 'Senegal', 'Serbia', 'Seychelles', 'Sierra Leone', 'Sint Maarten', 'Slovakia', 'Slovenia', 'Solomon Islands', 'Somalia', 'South Africa', 'South Sudan', 'Palestine', 'Sudan', 'Suriname', 'Eswatini', 'Switzerland', 'Syria', 'Tajikistan', 'Tanzania', 'Timor-Leste', 'Togo', 'Tonga', 'Trinidad and Tobago', 'Tunisia', 'Turkey', 'Turks and Caicos', 'Uganda', 'Ukraine', 'Uruguay', 'Uzbekistan', 'Vanuatu', 'Venezuela', 'Yemen', 'Zambia', 'Zimbabwe', 'Palau']]\n"
          ]
        }
      ]
    }
  ]
}